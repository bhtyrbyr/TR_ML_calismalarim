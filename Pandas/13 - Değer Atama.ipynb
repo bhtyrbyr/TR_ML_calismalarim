{
 "cells": [
  {
   "cell_type": "code",
   "execution_count": 3,
   "id": "c8191b9e",
   "metadata": {},
   "outputs": [],
   "source": [
    "import pandas as pd; import numpy as np;"
   ]
  },
  {
   "cell_type": "markdown",
   "id": "3d447f5b",
   "metadata": {},
   "source": [
    "### .replace() :\n",
    "- Bu metot sayesinde veri seti içerisinde istenilen şekilde değer ataması yapılabilir. Parametre olarak birinci parametreye `atama yapılacak değer`, ikinci parametre olarak ise `atanılacak değer` verilir."
   ]
  },
  {
   "cell_type": "code",
   "execution_count": 8,
   "id": "6b026694",
   "metadata": {},
   "outputs": [
    {
     "data": {
      "text/plain": [
       "0    80\n",
       "1    70\n",
       "2    90\n",
       "3    60\n",
       "4   -40\n",
       "5    10\n",
       "6   -25\n",
       "dtype: int64"
      ]
     },
     "execution_count": 8,
     "metadata": {},
     "output_type": "execute_result"
    }
   ],
   "source": [
    "nt = pd.Series([80,70,90,60,-40,10,-25])\n",
    "nt"
   ]
  },
  {
   "cell_type": "code",
   "execution_count": 9,
   "id": "ba2fc491",
   "metadata": {},
   "outputs": [
    {
     "data": {
      "text/plain": [
       "0    80.0\n",
       "1     NaN\n",
       "2    90.0\n",
       "3    60.0\n",
       "4   -40.0\n",
       "5    10.0\n",
       "6   -25.0\n",
       "dtype: float64"
      ]
     },
     "execution_count": 9,
     "metadata": {},
     "output_type": "execute_result"
    }
   ],
   "source": [
    "nt.replace(70,np.nan)"
   ]
  },
  {
   "cell_type": "code",
   "execution_count": 15,
   "id": "4101364e",
   "metadata": {},
   "outputs": [
    {
     "data": {
      "text/plain": [
       "0    80.0\n",
       "1     NaN\n",
       "2    90.0\n",
       "3     0.0\n",
       "4     5.0\n",
       "5    10.0\n",
       "6     5.0\n",
       "dtype: float64"
      ]
     },
     "execution_count": 15,
     "metadata": {},
     "output_type": "execute_result"
    }
   ],
   "source": [
    "nt.replace([70,60,nt[nt<0]],[np.nan,0,5])"
   ]
  },
  {
   "cell_type": "code",
   "execution_count": null,
   "id": "3d39e097",
   "metadata": {},
   "outputs": [],
   "source": []
  }
 ],
 "metadata": {
  "kernelspec": {
   "display_name": "Python 3 (ipykernel)",
   "language": "python",
   "name": "python3"
  },
  "language_info": {
   "codemirror_mode": {
    "name": "ipython",
    "version": 3
   },
   "file_extension": ".py",
   "mimetype": "text/x-python",
   "name": "python",
   "nbconvert_exporter": "python",
   "pygments_lexer": "ipython3",
   "version": "3.9.12"
  }
 },
 "nbformat": 4,
 "nbformat_minor": 5
}
