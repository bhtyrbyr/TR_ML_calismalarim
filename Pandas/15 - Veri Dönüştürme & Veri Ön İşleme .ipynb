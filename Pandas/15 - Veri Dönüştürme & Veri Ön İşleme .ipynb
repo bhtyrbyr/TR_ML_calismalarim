{
 "cells": [
  {
   "cell_type": "code",
   "execution_count": 2,
   "id": "ed20560a",
   "metadata": {},
   "outputs": [],
   "source": [
    "import pandas as pd; import numpy as np;"
   ]
  },
  {
   "cell_type": "markdown",
   "id": "2000e89b",
   "metadata": {},
   "source": [
    "## Veriyi Gruplara Ayırma\n",
    "\n",
    "- Veriyi belli aralıkta gruplara ayırmak için `cut` metodu kullanılır.\n",
    "- `cut` metodu ile aralıklara bölmek için birden fazla yol vardır. İlk seçenek aralıkların bizim tarafımızdan belirlenmesidir. Kullanımı:\n",
    "    aralik = [20,40,60,80,100]\n",
    "    pd.cut(<veri_seti>, aralik)\n",
    "  şeklindedir. \n",
    "- Ek olarak aralıklara isim verilebilir. Bunun için aralıkların isminin verildiği bir dizi oluşturularak metota `labels = <aralık_isimleri>`şeklinde parametre olarak verilmelidir. \n",
    "- Bir diğer yöntem ise belirli sayıda aralığa bölmesi istenilebilir. Bunun için bir önceki seçenekte `aralik` olarak verilen parametre yerine ne kadar aralığa bölünmesini istiyorsak sayısını parametre olarak verilir. Aralıklar içerdeki max ve min değere göre otamatik olarak bölünür.\n",
    "- Son seçenek ise eleman sayısını eşit aralıklara bölmek için kullanılır. Örneğin 100 örnekli bir veri seti var ve bunu 25 elemanlı 4 parçaya ayırmak istenirse `qcut` metotu kullanılır. Kullanımı:\n",
    "    pd.qcut(<veri_seti>,4)\n",
    "  şeklindedir.\n",
    "  4 yerine verdiğimiz sayıya göre eleman sayısı eşit olacak şekilde veriyi parçalar."
   ]
  },
  {
   "cell_type": "code",
   "execution_count": 6,
   "id": "9d322fdb",
   "metadata": {},
   "outputs": [],
   "source": [
    "nt = [30,80,40,90,60,45,95,75,55,100,65,85]"
   ]
  },
  {
   "cell_type": "code",
   "execution_count": 15,
   "id": "854c4529",
   "metadata": {},
   "outputs": [],
   "source": [
    "aralik = [20,40,60,80,100]"
   ]
  },
  {
   "cell_type": "code",
   "execution_count": 16,
   "id": "0dac6454",
   "metadata": {},
   "outputs": [
    {
     "data": {
      "text/plain": [
       "[(20, 40], (60, 80], (20, 40], (80, 100], (40, 60], ..., (60, 80], (40, 60], (80, 100], (60, 80], (80, 100]]\n",
       "Length: 12\n",
       "Categories (4, interval[int64, right]): [(20, 40] < (40, 60] < (60, 80] < (80, 100]]"
      ]
     },
     "execution_count": 16,
     "metadata": {},
     "output_type": "execute_result"
    }
   ],
   "source": [
    "puan = pd.cut(nt,aralık)\n",
    "puan"
   ]
  },
  {
   "cell_type": "code",
   "execution_count": 17,
   "id": "d0b75f7a",
   "metadata": {},
   "outputs": [
    {
     "data": {
      "text/plain": [
       "array([0, 2, 0, 3, 1, 1, 3, 2, 1, 3, 2, 3], dtype=int8)"
      ]
     },
     "execution_count": 17,
     "metadata": {},
     "output_type": "execute_result"
    }
   ],
   "source": [
    "puan.codes"
   ]
  },
  {
   "cell_type": "code",
   "execution_count": 18,
   "id": "22e559e0",
   "metadata": {},
   "outputs": [
    {
     "data": {
      "text/plain": [
       "IntervalIndex([(20, 40], (40, 60], (60, 80], (80, 100]], dtype='interval[int64, right]')"
      ]
     },
     "execution_count": 18,
     "metadata": {},
     "output_type": "execute_result"
    }
   ],
   "source": [
    "puan.categories"
   ]
  },
  {
   "cell_type": "code",
   "execution_count": 19,
   "id": "38211c38",
   "metadata": {},
   "outputs": [
    {
     "data": {
      "text/plain": [
       "(80, 100]    4\n",
       "(40, 60]     3\n",
       "(60, 80]     3\n",
       "(20, 40]     2\n",
       "dtype: int64"
      ]
     },
     "execution_count": 19,
     "metadata": {},
     "output_type": "execute_result"
    }
   ],
   "source": [
    "pd.value_counts(puan)"
   ]
  },
  {
   "cell_type": "code",
   "execution_count": 20,
   "id": "668a415f",
   "metadata": {},
   "outputs": [],
   "source": [
    "puan = pd.cut(nt,aralık,right=False)"
   ]
  },
  {
   "cell_type": "code",
   "execution_count": 21,
   "id": "24a905eb",
   "metadata": {},
   "outputs": [
    {
     "data": {
      "text/plain": [
       "[[20, 40), [80, 100), [40, 60), [80, 100), [60, 80), ..., [60.0, 80.0), [40.0, 60.0), NaN, [60.0, 80.0), [80.0, 100.0)]\n",
       "Length: 12\n",
       "Categories (4, interval[int64, left]): [[20, 40) < [40, 60) < [60, 80) < [80, 100)]"
      ]
     },
     "execution_count": 21,
     "metadata": {},
     "output_type": "execute_result"
    }
   ],
   "source": [
    "puan"
   ]
  },
  {
   "cell_type": "code",
   "execution_count": 23,
   "id": "15451c1a",
   "metadata": {},
   "outputs": [],
   "source": [
    "isim = [\"düşük\",\"orta\",\"yüksek\",\"tavan\"]\n",
    "y =pd.cut(nt,aralik,labels=isim)"
   ]
  },
  {
   "cell_type": "code",
   "execution_count": 24,
   "id": "e3121cf5",
   "metadata": {},
   "outputs": [
    {
     "data": {
      "text/plain": [
       "tavan     4\n",
       "orta      3\n",
       "yüksek    3\n",
       "düşük     2\n",
       "dtype: int64"
      ]
     },
     "execution_count": 24,
     "metadata": {},
     "output_type": "execute_result"
    }
   ],
   "source": [
    "pd.value_counts(y)"
   ]
  },
  {
   "cell_type": "code",
   "execution_count": 26,
   "id": "6623b06f",
   "metadata": {},
   "outputs": [
    {
     "data": {
      "text/plain": [
       "[(29.93, 37.0], (79.0, 86.0], (37.0, 44.0], (86.0, 93.0], (58.0, 65.0], ..., (72.0, 79.0], (51.0, 58.0], (93.0, 100.0], (58.0, 65.0], (79.0, 86.0]]\n",
       "Length: 12\n",
       "Categories (10, interval[float64, right]): [(29.93, 37.0] < (37.0, 44.0] < (44.0, 51.0] < (51.0, 58.0] ... (72.0, 79.0] < (79.0, 86.0] < (86.0, 93.0] < (93.0, 100.0]]"
      ]
     },
     "execution_count": 26,
     "metadata": {},
     "output_type": "execute_result"
    }
   ],
   "source": [
    "z = pd.cut(nt,10)\n",
    "z"
   ]
  },
  {
   "cell_type": "code",
   "execution_count": 27,
   "id": "16edb27f",
   "metadata": {},
   "outputs": [
    {
     "data": {
      "text/plain": [
       "(58.0, 65.0]     2\n",
       "(79.0, 86.0]     2\n",
       "(93.0, 100.0]    2\n",
       "(29.93, 37.0]    1\n",
       "(37.0, 44.0]     1\n",
       "(44.0, 51.0]     1\n",
       "(51.0, 58.0]     1\n",
       "(72.0, 79.0]     1\n",
       "(86.0, 93.0]     1\n",
       "(65.0, 72.0]     0\n",
       "dtype: int64"
      ]
     },
     "execution_count": 27,
     "metadata": {},
     "output_type": "execute_result"
    }
   ],
   "source": [
    "pd.value_counts(z)"
   ]
  },
  {
   "cell_type": "code",
   "execution_count": 39,
   "id": "3e495c27",
   "metadata": {},
   "outputs": [],
   "source": [
    "veri = np.random.randn(100)"
   ]
  },
  {
   "cell_type": "code",
   "execution_count": 49,
   "id": "7ce1ed99",
   "metadata": {},
   "outputs": [
    {
     "data": {
      "text/plain": [
       "(-2.048, -0.441]    25\n",
       "(-0.441, 0.128]     25\n",
       "(0.128, 0.742]      25\n",
       "(0.742, 3.321]      25\n",
       "dtype: int64"
      ]
     },
     "execution_count": 49,
     "metadata": {},
     "output_type": "execute_result"
    }
   ],
   "source": [
    "x = pd.qcut(veri, 4)\n",
    "pd.value_counts(x)"
   ]
  },
  {
   "cell_type": "markdown",
   "id": "8883c379",
   "metadata": {},
   "source": [
    "## Aykırı Değerleri Filtreleme\n",
    "- Veri seti içerisinde aykırı değer filtreleme işlemi o anki işleme özgüdür. Bunun için numpy kütüphanesinden faydalanılabilir. Örneğin veri seti içerisinde herhangi bir sutun içerisinde bulunan ve mutlak değeri 3'ü geçen verilerin indexleri istenilebilir. Bunun için sutunu bir değişkene alarak numpy ile sorgulama yapılabilir. DataFrame yapısında bir aykırı değer bulmak isteniyorsa numpy sorgusunun sonuna `.any(1)` parametresi verilir."
   ]
  },
  {
   "cell_type": "code",
   "execution_count": 54,
   "id": "9f03c196",
   "metadata": {},
   "outputs": [
    {
     "data": {
      "text/html": [
       "<div>\n",
       "<style scoped>\n",
       "    .dataframe tbody tr th:only-of-type {\n",
       "        vertical-align: middle;\n",
       "    }\n",
       "\n",
       "    .dataframe tbody tr th {\n",
       "        vertical-align: top;\n",
       "    }\n",
       "\n",
       "    .dataframe thead th {\n",
       "        text-align: right;\n",
       "    }\n",
       "</style>\n",
       "<table border=\"1\" class=\"dataframe\">\n",
       "  <thead>\n",
       "    <tr style=\"text-align: right;\">\n",
       "      <th></th>\n",
       "      <th>A</th>\n",
       "      <th>B</th>\n",
       "      <th>C</th>\n",
       "      <th>D</th>\n",
       "    </tr>\n",
       "  </thead>\n",
       "  <tbody>\n",
       "    <tr>\n",
       "      <th>0</th>\n",
       "      <td>2.156318</td>\n",
       "      <td>-0.668622</td>\n",
       "      <td>1.705598</td>\n",
       "      <td>-0.716324</td>\n",
       "    </tr>\n",
       "    <tr>\n",
       "      <th>1</th>\n",
       "      <td>0.064728</td>\n",
       "      <td>1.527244</td>\n",
       "      <td>-1.572658</td>\n",
       "      <td>0.992014</td>\n",
       "    </tr>\n",
       "    <tr>\n",
       "      <th>2</th>\n",
       "      <td>-0.202738</td>\n",
       "      <td>-0.089130</td>\n",
       "      <td>-1.004544</td>\n",
       "      <td>0.927527</td>\n",
       "    </tr>\n",
       "    <tr>\n",
       "      <th>3</th>\n",
       "      <td>-0.416013</td>\n",
       "      <td>0.232896</td>\n",
       "      <td>1.116970</td>\n",
       "      <td>1.305727</td>\n",
       "    </tr>\n",
       "    <tr>\n",
       "      <th>4</th>\n",
       "      <td>1.299436</td>\n",
       "      <td>-1.869558</td>\n",
       "      <td>-0.315913</td>\n",
       "      <td>-0.540635</td>\n",
       "    </tr>\n",
       "  </tbody>\n",
       "</table>\n",
       "</div>"
      ],
      "text/plain": [
       "          A         B         C         D\n",
       "0  2.156318 -0.668622  1.705598 -0.716324\n",
       "1  0.064728  1.527244 -1.572658  0.992014\n",
       "2 -0.202738 -0.089130 -1.004544  0.927527\n",
       "3 -0.416013  0.232896  1.116970  1.305727\n",
       "4  1.299436 -1.869558 -0.315913 -0.540635"
      ]
     },
     "execution_count": 54,
     "metadata": {},
     "output_type": "execute_result"
    }
   ],
   "source": [
    "veri = pd.DataFrame(np.random.randn(1000,4),\n",
    "                   columns= list(\"ABCD\"))\n",
    "veri.head()"
   ]
  },
  {
   "cell_type": "code",
   "execution_count": 55,
   "id": "7183fe24",
   "metadata": {},
   "outputs": [
    {
     "data": {
      "text/html": [
       "<div>\n",
       "<style scoped>\n",
       "    .dataframe tbody tr th:only-of-type {\n",
       "        vertical-align: middle;\n",
       "    }\n",
       "\n",
       "    .dataframe tbody tr th {\n",
       "        vertical-align: top;\n",
       "    }\n",
       "\n",
       "    .dataframe thead th {\n",
       "        text-align: right;\n",
       "    }\n",
       "</style>\n",
       "<table border=\"1\" class=\"dataframe\">\n",
       "  <thead>\n",
       "    <tr style=\"text-align: right;\">\n",
       "      <th></th>\n",
       "      <th>A</th>\n",
       "      <th>B</th>\n",
       "      <th>C</th>\n",
       "      <th>D</th>\n",
       "    </tr>\n",
       "  </thead>\n",
       "  <tbody>\n",
       "    <tr>\n",
       "      <th>count</th>\n",
       "      <td>1000.000000</td>\n",
       "      <td>1000.000000</td>\n",
       "      <td>1000.000000</td>\n",
       "      <td>1000.000000</td>\n",
       "    </tr>\n",
       "    <tr>\n",
       "      <th>mean</th>\n",
       "      <td>0.061218</td>\n",
       "      <td>-0.036269</td>\n",
       "      <td>-0.025924</td>\n",
       "      <td>0.012577</td>\n",
       "    </tr>\n",
       "    <tr>\n",
       "      <th>std</th>\n",
       "      <td>0.995943</td>\n",
       "      <td>1.042609</td>\n",
       "      <td>0.959860</td>\n",
       "      <td>1.034431</td>\n",
       "    </tr>\n",
       "    <tr>\n",
       "      <th>min</th>\n",
       "      <td>-3.461283</td>\n",
       "      <td>-3.134308</td>\n",
       "      <td>-3.024642</td>\n",
       "      <td>-3.022796</td>\n",
       "    </tr>\n",
       "    <tr>\n",
       "      <th>25%</th>\n",
       "      <td>-0.593698</td>\n",
       "      <td>-0.746015</td>\n",
       "      <td>-0.669554</td>\n",
       "      <td>-0.699099</td>\n",
       "    </tr>\n",
       "    <tr>\n",
       "      <th>50%</th>\n",
       "      <td>0.059007</td>\n",
       "      <td>-0.106552</td>\n",
       "      <td>-0.051788</td>\n",
       "      <td>-0.018539</td>\n",
       "    </tr>\n",
       "    <tr>\n",
       "      <th>75%</th>\n",
       "      <td>0.775439</td>\n",
       "      <td>0.667362</td>\n",
       "      <td>0.653320</td>\n",
       "      <td>0.684207</td>\n",
       "    </tr>\n",
       "    <tr>\n",
       "      <th>max</th>\n",
       "      <td>3.154931</td>\n",
       "      <td>3.395767</td>\n",
       "      <td>3.119578</td>\n",
       "      <td>3.491013</td>\n",
       "    </tr>\n",
       "  </tbody>\n",
       "</table>\n",
       "</div>"
      ],
      "text/plain": [
       "                 A            B            C            D\n",
       "count  1000.000000  1000.000000  1000.000000  1000.000000\n",
       "mean      0.061218    -0.036269    -0.025924     0.012577\n",
       "std       0.995943     1.042609     0.959860     1.034431\n",
       "min      -3.461283    -3.134308    -3.024642    -3.022796\n",
       "25%      -0.593698    -0.746015    -0.669554    -0.699099\n",
       "50%       0.059007    -0.106552    -0.051788    -0.018539\n",
       "75%       0.775439     0.667362     0.653320     0.684207\n",
       "max       3.154931     3.395767     3.119578     3.491013"
      ]
     },
     "execution_count": 55,
     "metadata": {},
     "output_type": "execute_result"
    }
   ],
   "source": [
    "veri.describe()"
   ]
  },
  {
   "cell_type": "code",
   "execution_count": 58,
   "id": "82f3a8fb",
   "metadata": {},
   "outputs": [],
   "source": [
    "sutun = veri[\"B\"]"
   ]
  },
  {
   "cell_type": "code",
   "execution_count": 68,
   "id": "a3b82c4c",
   "metadata": {},
   "outputs": [
    {
     "data": {
      "text/plain": [
       "67     3.395767\n",
       "285   -3.134308\n",
       "566    3.080662\n",
       "676    3.252238\n",
       "994    3.085757\n",
       "997   -3.036999\n",
       "Name: B, dtype: float64"
      ]
     },
     "execution_count": 68,
     "metadata": {},
     "output_type": "execute_result"
    }
   ],
   "source": [
    "sutun[pd.Index((np.abs(sutun)>3))]"
   ]
  },
  {
   "cell_type": "code",
   "execution_count": 63,
   "id": "03cef947",
   "metadata": {},
   "outputs": [
    {
     "data": {
      "text/html": [
       "<div>\n",
       "<style scoped>\n",
       "    .dataframe tbody tr th:only-of-type {\n",
       "        vertical-align: middle;\n",
       "    }\n",
       "\n",
       "    .dataframe tbody tr th {\n",
       "        vertical-align: top;\n",
       "    }\n",
       "\n",
       "    .dataframe thead th {\n",
       "        text-align: right;\n",
       "    }\n",
       "</style>\n",
       "<table border=\"1\" class=\"dataframe\">\n",
       "  <thead>\n",
       "    <tr style=\"text-align: right;\">\n",
       "      <th></th>\n",
       "      <th>A</th>\n",
       "      <th>B</th>\n",
       "      <th>C</th>\n",
       "      <th>D</th>\n",
       "    </tr>\n",
       "  </thead>\n",
       "  <tbody>\n",
       "    <tr>\n",
       "      <th>27</th>\n",
       "      <td>3.111942</td>\n",
       "      <td>-0.615489</td>\n",
       "      <td>0.699218</td>\n",
       "      <td>0.677161</td>\n",
       "    </tr>\n",
       "    <tr>\n",
       "      <th>67</th>\n",
       "      <td>-0.603292</td>\n",
       "      <td>3.395767</td>\n",
       "      <td>0.214752</td>\n",
       "      <td>1.696738</td>\n",
       "    </tr>\n",
       "    <tr>\n",
       "      <th>158</th>\n",
       "      <td>3.128896</td>\n",
       "      <td>0.046571</td>\n",
       "      <td>1.351339</td>\n",
       "      <td>1.172795</td>\n",
       "    </tr>\n",
       "    <tr>\n",
       "      <th>185</th>\n",
       "      <td>-3.213754</td>\n",
       "      <td>-0.905977</td>\n",
       "      <td>-0.275957</td>\n",
       "      <td>-0.983815</td>\n",
       "    </tr>\n",
       "    <tr>\n",
       "      <th>235</th>\n",
       "      <td>0.715731</td>\n",
       "      <td>-0.473757</td>\n",
       "      <td>-1.073837</td>\n",
       "      <td>3.148162</td>\n",
       "    </tr>\n",
       "    <tr>\n",
       "      <th>280</th>\n",
       "      <td>-1.002521</td>\n",
       "      <td>-1.181371</td>\n",
       "      <td>0.393320</td>\n",
       "      <td>3.209726</td>\n",
       "    </tr>\n",
       "    <tr>\n",
       "      <th>285</th>\n",
       "      <td>-1.012491</td>\n",
       "      <td>-3.134308</td>\n",
       "      <td>-0.083414</td>\n",
       "      <td>-2.804869</td>\n",
       "    </tr>\n",
       "    <tr>\n",
       "      <th>299</th>\n",
       "      <td>0.126779</td>\n",
       "      <td>-2.067042</td>\n",
       "      <td>-3.024642</td>\n",
       "      <td>0.996903</td>\n",
       "    </tr>\n",
       "    <tr>\n",
       "      <th>371</th>\n",
       "      <td>0.043365</td>\n",
       "      <td>1.847865</td>\n",
       "      <td>0.010392</td>\n",
       "      <td>3.491013</td>\n",
       "    </tr>\n",
       "    <tr>\n",
       "      <th>431</th>\n",
       "      <td>1.192471</td>\n",
       "      <td>-0.499395</td>\n",
       "      <td>0.771451</td>\n",
       "      <td>3.103564</td>\n",
       "    </tr>\n",
       "    <tr>\n",
       "      <th>566</th>\n",
       "      <td>0.176473</td>\n",
       "      <td>3.080662</td>\n",
       "      <td>-0.970057</td>\n",
       "      <td>0.988651</td>\n",
       "    </tr>\n",
       "    <tr>\n",
       "      <th>671</th>\n",
       "      <td>-1.076786</td>\n",
       "      <td>0.592577</td>\n",
       "      <td>3.119578</td>\n",
       "      <td>1.387761</td>\n",
       "    </tr>\n",
       "    <tr>\n",
       "      <th>676</th>\n",
       "      <td>0.922121</td>\n",
       "      <td>3.252238</td>\n",
       "      <td>0.240527</td>\n",
       "      <td>-1.202512</td>\n",
       "    </tr>\n",
       "    <tr>\n",
       "      <th>832</th>\n",
       "      <td>-0.242071</td>\n",
       "      <td>-1.365170</td>\n",
       "      <td>0.999007</td>\n",
       "      <td>-3.022796</td>\n",
       "    </tr>\n",
       "    <tr>\n",
       "      <th>839</th>\n",
       "      <td>3.154931</td>\n",
       "      <td>0.250270</td>\n",
       "      <td>1.080326</td>\n",
       "      <td>-0.094528</td>\n",
       "    </tr>\n",
       "    <tr>\n",
       "      <th>982</th>\n",
       "      <td>-3.461283</td>\n",
       "      <td>1.114299</td>\n",
       "      <td>0.635827</td>\n",
       "      <td>0.638828</td>\n",
       "    </tr>\n",
       "    <tr>\n",
       "      <th>994</th>\n",
       "      <td>1.700133</td>\n",
       "      <td>3.085757</td>\n",
       "      <td>0.927249</td>\n",
       "      <td>-1.011746</td>\n",
       "    </tr>\n",
       "    <tr>\n",
       "      <th>997</th>\n",
       "      <td>-1.469265</td>\n",
       "      <td>-3.036999</td>\n",
       "      <td>0.755782</td>\n",
       "      <td>0.848108</td>\n",
       "    </tr>\n",
       "  </tbody>\n",
       "</table>\n",
       "</div>"
      ],
      "text/plain": [
       "            A         B         C         D\n",
       "27   3.111942 -0.615489  0.699218  0.677161\n",
       "67  -0.603292  3.395767  0.214752  1.696738\n",
       "158  3.128896  0.046571  1.351339  1.172795\n",
       "185 -3.213754 -0.905977 -0.275957 -0.983815\n",
       "235  0.715731 -0.473757 -1.073837  3.148162\n",
       "280 -1.002521 -1.181371  0.393320  3.209726\n",
       "285 -1.012491 -3.134308 -0.083414 -2.804869\n",
       "299  0.126779 -2.067042 -3.024642  0.996903\n",
       "371  0.043365  1.847865  0.010392  3.491013\n",
       "431  1.192471 -0.499395  0.771451  3.103564\n",
       "566  0.176473  3.080662 -0.970057  0.988651\n",
       "671 -1.076786  0.592577  3.119578  1.387761\n",
       "676  0.922121  3.252238  0.240527 -1.202512\n",
       "832 -0.242071 -1.365170  0.999007 -3.022796\n",
       "839  3.154931  0.250270  1.080326 -0.094528\n",
       "982 -3.461283  1.114299  0.635827  0.638828\n",
       "994  1.700133  3.085757  0.927249 -1.011746\n",
       "997 -1.469265 -3.036999  0.755782  0.848108"
      ]
     },
     "execution_count": 63,
     "metadata": {},
     "output_type": "execute_result"
    }
   ],
   "source": [
    "veri[(np.abs(veri)>3).any(1)]"
   ]
  },
  {
   "cell_type": "code",
   "execution_count": 61,
   "id": "82b0f2c4",
   "metadata": {},
   "outputs": [
    {
     "data": {
      "text/html": [
       "<div>\n",
       "<style scoped>\n",
       "    .dataframe tbody tr th:only-of-type {\n",
       "        vertical-align: middle;\n",
       "    }\n",
       "\n",
       "    .dataframe tbody tr th {\n",
       "        vertical-align: top;\n",
       "    }\n",
       "\n",
       "    .dataframe thead th {\n",
       "        text-align: right;\n",
       "    }\n",
       "</style>\n",
       "<table border=\"1\" class=\"dataframe\">\n",
       "  <thead>\n",
       "    <tr style=\"text-align: right;\">\n",
       "      <th></th>\n",
       "      <th>A</th>\n",
       "      <th>B</th>\n",
       "      <th>C</th>\n",
       "      <th>D</th>\n",
       "    </tr>\n",
       "  </thead>\n",
       "  <tbody>\n",
       "    <tr>\n",
       "      <th>0</th>\n",
       "      <td>1.0</td>\n",
       "      <td>-1.0</td>\n",
       "      <td>1.0</td>\n",
       "      <td>-1.0</td>\n",
       "    </tr>\n",
       "    <tr>\n",
       "      <th>1</th>\n",
       "      <td>1.0</td>\n",
       "      <td>1.0</td>\n",
       "      <td>-1.0</td>\n",
       "      <td>1.0</td>\n",
       "    </tr>\n",
       "    <tr>\n",
       "      <th>2</th>\n",
       "      <td>-1.0</td>\n",
       "      <td>-1.0</td>\n",
       "      <td>-1.0</td>\n",
       "      <td>1.0</td>\n",
       "    </tr>\n",
       "    <tr>\n",
       "      <th>3</th>\n",
       "      <td>-1.0</td>\n",
       "      <td>1.0</td>\n",
       "      <td>1.0</td>\n",
       "      <td>1.0</td>\n",
       "    </tr>\n",
       "    <tr>\n",
       "      <th>4</th>\n",
       "      <td>1.0</td>\n",
       "      <td>-1.0</td>\n",
       "      <td>-1.0</td>\n",
       "      <td>-1.0</td>\n",
       "    </tr>\n",
       "  </tbody>\n",
       "</table>\n",
       "</div>"
      ],
      "text/plain": [
       "     A    B    C    D\n",
       "0  1.0 -1.0  1.0 -1.0\n",
       "1  1.0  1.0 -1.0  1.0\n",
       "2 -1.0 -1.0 -1.0  1.0\n",
       "3 -1.0  1.0  1.0  1.0\n",
       "4  1.0 -1.0 -1.0 -1.0"
      ]
     },
     "execution_count": 61,
     "metadata": {},
     "output_type": "execute_result"
    }
   ],
   "source": [
    "np.sign(veri).head()"
   ]
  },
  {
   "cell_type": "markdown",
   "id": "a860e3ce",
   "metadata": {},
   "source": [
    "## Rasgele Satır Sıralama ve Seçme\n",
    "- Hazırdaki veri setinin tekrar belirli veya rasgele indexlemek istersek `.take()` metotu kullanılır.\n",
    "- Rasgele bir veya birden fazla satır seçmek istersek `.sample()` metotu kullanılır. Metot tek başına kullanıldığında tek bir satırı verecektir. Birden fazla satır almak için `n=<istenilen_satir_sayisi>` parametresi verilir."
   ]
  },
  {
   "cell_type": "code",
   "execution_count": 71,
   "id": "cb84fcd1",
   "metadata": {},
   "outputs": [
    {
     "data": {
      "text/html": [
       "<div>\n",
       "<style scoped>\n",
       "    .dataframe tbody tr th:only-of-type {\n",
       "        vertical-align: middle;\n",
       "    }\n",
       "\n",
       "    .dataframe tbody tr th {\n",
       "        vertical-align: top;\n",
       "    }\n",
       "\n",
       "    .dataframe thead th {\n",
       "        text-align: right;\n",
       "    }\n",
       "</style>\n",
       "<table border=\"1\" class=\"dataframe\">\n",
       "  <thead>\n",
       "    <tr style=\"text-align: right;\">\n",
       "      <th></th>\n",
       "      <th>0</th>\n",
       "      <th>1</th>\n",
       "      <th>2</th>\n",
       "    </tr>\n",
       "  </thead>\n",
       "  <tbody>\n",
       "    <tr>\n",
       "      <th>0</th>\n",
       "      <td>0</td>\n",
       "      <td>1</td>\n",
       "      <td>2</td>\n",
       "    </tr>\n",
       "    <tr>\n",
       "      <th>1</th>\n",
       "      <td>3</td>\n",
       "      <td>4</td>\n",
       "      <td>5</td>\n",
       "    </tr>\n",
       "    <tr>\n",
       "      <th>2</th>\n",
       "      <td>6</td>\n",
       "      <td>7</td>\n",
       "      <td>8</td>\n",
       "    </tr>\n",
       "    <tr>\n",
       "      <th>3</th>\n",
       "      <td>9</td>\n",
       "      <td>10</td>\n",
       "      <td>11</td>\n",
       "    </tr>\n",
       "  </tbody>\n",
       "</table>\n",
       "</div>"
      ],
      "text/plain": [
       "   0   1   2\n",
       "0  0   1   2\n",
       "1  3   4   5\n",
       "2  6   7   8\n",
       "3  9  10  11"
      ]
     },
     "execution_count": 71,
     "metadata": {},
     "output_type": "execute_result"
    }
   ],
   "source": [
    "veriSet = pd.DataFrame(np.arange(12).reshape(4,3))\n",
    "veriSet"
   ]
  },
  {
   "cell_type": "code",
   "execution_count": 72,
   "id": "a5fafdc7",
   "metadata": {},
   "outputs": [
    {
     "data": {
      "text/plain": [
       "array([1, 3, 2, 0])"
      ]
     },
     "execution_count": 72,
     "metadata": {},
     "output_type": "execute_result"
    }
   ],
   "source": [
    "yeniSira = np.random.permutation(4)\n",
    "yeniSira"
   ]
  },
  {
   "cell_type": "code",
   "execution_count": 81,
   "id": "a95cd274",
   "metadata": {},
   "outputs": [
    {
     "data": {
      "text/html": [
       "<div>\n",
       "<style scoped>\n",
       "    .dataframe tbody tr th:only-of-type {\n",
       "        vertical-align: middle;\n",
       "    }\n",
       "\n",
       "    .dataframe tbody tr th {\n",
       "        vertical-align: top;\n",
       "    }\n",
       "\n",
       "    .dataframe thead th {\n",
       "        text-align: right;\n",
       "    }\n",
       "</style>\n",
       "<table border=\"1\" class=\"dataframe\">\n",
       "  <thead>\n",
       "    <tr style=\"text-align: right;\">\n",
       "      <th></th>\n",
       "      <th>0</th>\n",
       "      <th>1</th>\n",
       "      <th>2</th>\n",
       "    </tr>\n",
       "  </thead>\n",
       "  <tbody>\n",
       "    <tr>\n",
       "      <th>3</th>\n",
       "      <td>9</td>\n",
       "      <td>10</td>\n",
       "      <td>11</td>\n",
       "    </tr>\n",
       "    <tr>\n",
       "      <th>0</th>\n",
       "      <td>0</td>\n",
       "      <td>1</td>\n",
       "      <td>2</td>\n",
       "    </tr>\n",
       "    <tr>\n",
       "      <th>2</th>\n",
       "      <td>6</td>\n",
       "      <td>7</td>\n",
       "      <td>8</td>\n",
       "    </tr>\n",
       "    <tr>\n",
       "      <th>1</th>\n",
       "      <td>3</td>\n",
       "      <td>4</td>\n",
       "      <td>5</td>\n",
       "    </tr>\n",
       "  </tbody>\n",
       "</table>\n",
       "</div>"
      ],
      "text/plain": [
       "   0   1   2\n",
       "3  9  10  11\n",
       "0  0   1   2\n",
       "2  6   7   8\n",
       "1  3   4   5"
      ]
     },
     "execution_count": 81,
     "metadata": {},
     "output_type": "execute_result"
    }
   ],
   "source": [
    "veriSet = veriSet.take(yeniSira)\n",
    "veriSet"
   ]
  },
  {
   "cell_type": "code",
   "execution_count": 84,
   "id": "7600b3dc",
   "metadata": {},
   "outputs": [
    {
     "data": {
      "text/html": [
       "<div>\n",
       "<style scoped>\n",
       "    .dataframe tbody tr th:only-of-type {\n",
       "        vertical-align: middle;\n",
       "    }\n",
       "\n",
       "    .dataframe tbody tr th {\n",
       "        vertical-align: top;\n",
       "    }\n",
       "\n",
       "    .dataframe thead th {\n",
       "        text-align: right;\n",
       "    }\n",
       "</style>\n",
       "<table border=\"1\" class=\"dataframe\">\n",
       "  <thead>\n",
       "    <tr style=\"text-align: right;\">\n",
       "      <th></th>\n",
       "      <th>0</th>\n",
       "      <th>1</th>\n",
       "      <th>2</th>\n",
       "    </tr>\n",
       "  </thead>\n",
       "  <tbody>\n",
       "    <tr>\n",
       "      <th>2</th>\n",
       "      <td>6</td>\n",
       "      <td>7</td>\n",
       "      <td>8</td>\n",
       "    </tr>\n",
       "    <tr>\n",
       "      <th>0</th>\n",
       "      <td>0</td>\n",
       "      <td>1</td>\n",
       "      <td>2</td>\n",
       "    </tr>\n",
       "    <tr>\n",
       "      <th>3</th>\n",
       "      <td>9</td>\n",
       "      <td>10</td>\n",
       "      <td>11</td>\n",
       "    </tr>\n",
       "  </tbody>\n",
       "</table>\n",
       "</div>"
      ],
      "text/plain": [
       "   0   1   2\n",
       "2  6   7   8\n",
       "0  0   1   2\n",
       "3  9  10  11"
      ]
     },
     "execution_count": 84,
     "metadata": {},
     "output_type": "execute_result"
    }
   ],
   "source": [
    "veriSet.sample(n=3)"
   ]
  },
  {
   "cell_type": "markdown",
   "id": "a3c4a025",
   "metadata": {},
   "source": [
    "## Dummy Dönüşüme"
   ]
  },
  {
   "cell_type": "code",
   "execution_count": 85,
   "id": "fa662cb4",
   "metadata": {},
   "outputs": [
    {
     "data": {
      "text/html": [
       "<div>\n",
       "<style scoped>\n",
       "    .dataframe tbody tr th:only-of-type {\n",
       "        vertical-align: middle;\n",
       "    }\n",
       "\n",
       "    .dataframe tbody tr th {\n",
       "        vertical-align: top;\n",
       "    }\n",
       "\n",
       "    .dataframe thead th {\n",
       "        text-align: right;\n",
       "    }\n",
       "</style>\n",
       "<table border=\"1\" class=\"dataframe\">\n",
       "  <thead>\n",
       "    <tr style=\"text-align: right;\">\n",
       "      <th></th>\n",
       "      <th>Harf</th>\n",
       "      <th>Sayi</th>\n",
       "    </tr>\n",
       "  </thead>\n",
       "  <tbody>\n",
       "    <tr>\n",
       "      <th>0</th>\n",
       "      <td>c</td>\n",
       "      <td>0</td>\n",
       "    </tr>\n",
       "    <tr>\n",
       "      <th>1</th>\n",
       "      <td>b</td>\n",
       "      <td>1</td>\n",
       "    </tr>\n",
       "    <tr>\n",
       "      <th>2</th>\n",
       "      <td>a</td>\n",
       "      <td>2</td>\n",
       "    </tr>\n",
       "    <tr>\n",
       "      <th>3</th>\n",
       "      <td>b</td>\n",
       "      <td>3</td>\n",
       "    </tr>\n",
       "    <tr>\n",
       "      <th>4</th>\n",
       "      <td>b</td>\n",
       "      <td>4</td>\n",
       "    </tr>\n",
       "    <tr>\n",
       "      <th>5</th>\n",
       "      <td>a</td>\n",
       "      <td>5</td>\n",
       "    </tr>\n",
       "  </tbody>\n",
       "</table>\n",
       "</div>"
      ],
      "text/plain": [
       "  Harf  Sayi\n",
       "0    c     0\n",
       "1    b     1\n",
       "2    a     2\n",
       "3    b     3\n",
       "4    b     4\n",
       "5    a     5"
      ]
     },
     "execution_count": 85,
     "metadata": {},
     "output_type": "execute_result"
    }
   ],
   "source": [
    "veri = pd.DataFrame({\n",
    "    \"Harf\":[\"c\",\"b\",\"a\",\"b\",\"b\",\"a\"],\n",
    "    \"Sayi\":range(6)\n",
    "})\n",
    "veri"
   ]
  },
  {
   "cell_type": "code",
   "execution_count": 86,
   "id": "0771518d",
   "metadata": {},
   "outputs": [
    {
     "data": {
      "text/html": [
       "<div>\n",
       "<style scoped>\n",
       "    .dataframe tbody tr th:only-of-type {\n",
       "        vertical-align: middle;\n",
       "    }\n",
       "\n",
       "    .dataframe tbody tr th {\n",
       "        vertical-align: top;\n",
       "    }\n",
       "\n",
       "    .dataframe thead th {\n",
       "        text-align: right;\n",
       "    }\n",
       "</style>\n",
       "<table border=\"1\" class=\"dataframe\">\n",
       "  <thead>\n",
       "    <tr style=\"text-align: right;\">\n",
       "      <th></th>\n",
       "      <th>a</th>\n",
       "      <th>b</th>\n",
       "      <th>c</th>\n",
       "    </tr>\n",
       "  </thead>\n",
       "  <tbody>\n",
       "    <tr>\n",
       "      <th>0</th>\n",
       "      <td>0</td>\n",
       "      <td>0</td>\n",
       "      <td>1</td>\n",
       "    </tr>\n",
       "    <tr>\n",
       "      <th>1</th>\n",
       "      <td>0</td>\n",
       "      <td>1</td>\n",
       "      <td>0</td>\n",
       "    </tr>\n",
       "    <tr>\n",
       "      <th>2</th>\n",
       "      <td>1</td>\n",
       "      <td>0</td>\n",
       "      <td>0</td>\n",
       "    </tr>\n",
       "    <tr>\n",
       "      <th>3</th>\n",
       "      <td>0</td>\n",
       "      <td>1</td>\n",
       "      <td>0</td>\n",
       "    </tr>\n",
       "    <tr>\n",
       "      <th>4</th>\n",
       "      <td>0</td>\n",
       "      <td>1</td>\n",
       "      <td>0</td>\n",
       "    </tr>\n",
       "    <tr>\n",
       "      <th>5</th>\n",
       "      <td>1</td>\n",
       "      <td>0</td>\n",
       "      <td>0</td>\n",
       "    </tr>\n",
       "  </tbody>\n",
       "</table>\n",
       "</div>"
      ],
      "text/plain": [
       "   a  b  c\n",
       "0  0  0  1\n",
       "1  0  1  0\n",
       "2  1  0  0\n",
       "3  0  1  0\n",
       "4  0  1  0\n",
       "5  1  0  0"
      ]
     },
     "execution_count": 86,
     "metadata": {},
     "output_type": "execute_result"
    }
   ],
   "source": [
    "pd.get_dummies(veri[\"Harf\"])"
   ]
  },
  {
   "cell_type": "code",
   "execution_count": 87,
   "id": "e4719009",
   "metadata": {},
   "outputs": [
    {
     "data": {
      "text/plain": [
       "array([-0.24221164,  0.16997975,  1.02551772,  1.81281834, -0.51883516,\n",
       "        0.45665531, -2.43527135,  0.46365378, -0.80011963, -1.17182386])"
      ]
     },
     "execution_count": 87,
     "metadata": {},
     "output_type": "execute_result"
    }
   ],
   "source": [
    "veri = np.random.randn(10)\n",
    "veri"
   ]
  },
  {
   "cell_type": "code",
   "execution_count": 89,
   "id": "c66d9347",
   "metadata": {},
   "outputs": [
    {
     "data": {
      "text/html": [
       "<div>\n",
       "<style scoped>\n",
       "    .dataframe tbody tr th:only-of-type {\n",
       "        vertical-align: middle;\n",
       "    }\n",
       "\n",
       "    .dataframe tbody tr th {\n",
       "        vertical-align: top;\n",
       "    }\n",
       "\n",
       "    .dataframe thead th {\n",
       "        text-align: right;\n",
       "    }\n",
       "</style>\n",
       "<table border=\"1\" class=\"dataframe\">\n",
       "  <thead>\n",
       "    <tr style=\"text-align: right;\">\n",
       "      <th></th>\n",
       "      <th>[-2.435, -1.373)</th>\n",
       "      <th>[-1.373, -0.311)</th>\n",
       "      <th>[-0.311, 0.751)</th>\n",
       "      <th>[0.751, 1.817)</th>\n",
       "    </tr>\n",
       "  </thead>\n",
       "  <tbody>\n",
       "    <tr>\n",
       "      <th>0</th>\n",
       "      <td>0</td>\n",
       "      <td>0</td>\n",
       "      <td>1</td>\n",
       "      <td>0</td>\n",
       "    </tr>\n",
       "    <tr>\n",
       "      <th>1</th>\n",
       "      <td>0</td>\n",
       "      <td>0</td>\n",
       "      <td>1</td>\n",
       "      <td>0</td>\n",
       "    </tr>\n",
       "    <tr>\n",
       "      <th>2</th>\n",
       "      <td>0</td>\n",
       "      <td>0</td>\n",
       "      <td>0</td>\n",
       "      <td>1</td>\n",
       "    </tr>\n",
       "    <tr>\n",
       "      <th>3</th>\n",
       "      <td>0</td>\n",
       "      <td>0</td>\n",
       "      <td>0</td>\n",
       "      <td>1</td>\n",
       "    </tr>\n",
       "    <tr>\n",
       "      <th>4</th>\n",
       "      <td>0</td>\n",
       "      <td>1</td>\n",
       "      <td>0</td>\n",
       "      <td>0</td>\n",
       "    </tr>\n",
       "    <tr>\n",
       "      <th>5</th>\n",
       "      <td>0</td>\n",
       "      <td>0</td>\n",
       "      <td>1</td>\n",
       "      <td>0</td>\n",
       "    </tr>\n",
       "    <tr>\n",
       "      <th>6</th>\n",
       "      <td>1</td>\n",
       "      <td>0</td>\n",
       "      <td>0</td>\n",
       "      <td>0</td>\n",
       "    </tr>\n",
       "    <tr>\n",
       "      <th>7</th>\n",
       "      <td>0</td>\n",
       "      <td>0</td>\n",
       "      <td>1</td>\n",
       "      <td>0</td>\n",
       "    </tr>\n",
       "    <tr>\n",
       "      <th>8</th>\n",
       "      <td>0</td>\n",
       "      <td>1</td>\n",
       "      <td>0</td>\n",
       "      <td>0</td>\n",
       "    </tr>\n",
       "    <tr>\n",
       "      <th>9</th>\n",
       "      <td>0</td>\n",
       "      <td>1</td>\n",
       "      <td>0</td>\n",
       "      <td>0</td>\n",
       "    </tr>\n",
       "  </tbody>\n",
       "</table>\n",
       "</div>"
      ],
      "text/plain": [
       "   [-2.435, -1.373)  [-1.373, -0.311)  [-0.311, 0.751)  [0.751, 1.817)\n",
       "0                 0                 0                1               0\n",
       "1                 0                 0                1               0\n",
       "2                 0                 0                0               1\n",
       "3                 0                 0                0               1\n",
       "4                 0                 1                0               0\n",
       "5                 0                 0                1               0\n",
       "6                 1                 0                0               0\n",
       "7                 0                 0                1               0\n",
       "8                 0                 1                0               0\n",
       "9                 0                 1                0               0"
      ]
     },
     "execution_count": 89,
     "metadata": {},
     "output_type": "execute_result"
    }
   ],
   "source": [
    " pd.get_dummies(pd.cut(veri,4,right=False))"
   ]
  },
  {
   "cell_type": "code",
   "execution_count": null,
   "id": "fb9c27f1",
   "metadata": {},
   "outputs": [],
   "source": []
  }
 ],
 "metadata": {
  "kernelspec": {
   "display_name": "Python 3 (ipykernel)",
   "language": "python",
   "name": "python3"
  },
  "language_info": {
   "codemirror_mode": {
    "name": "ipython",
    "version": 3
   },
   "file_extension": ".py",
   "mimetype": "text/x-python",
   "name": "python",
   "nbconvert_exporter": "python",
   "pygments_lexer": "ipython3",
   "version": "3.9.12"
  }
 },
 "nbformat": 4,
 "nbformat_minor": 5
}
