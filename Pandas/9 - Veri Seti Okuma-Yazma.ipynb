{
 "cells": [
  {
   "cell_type": "code",
   "execution_count": 69,
   "id": "cba8fb5b",
   "metadata": {},
   "outputs": [],
   "source": [
    "import pandas as pd; import numpy as np; import sys"
   ]
  },
  {
   "cell_type": "markdown",
   "id": "82b3c57e",
   "metadata": {},
   "source": [
    "# Veri Seti Okuma/Yazma\n",
    "\n",
    "## Alt Başlıklar :\n",
    "\n",
    "- ## txt-csv dosya okuma\n",
    "\n",
    "    - Dosyadaki veriler `virgül(,)` ile ayrıldıysa `.read_csv()` metotu kullanılır. \n",
    "    - Dosyadaki veriler `tab` ile ayrıldıysa `.read_txt()` metotu kullanılır. \n",
    "    - Dosya uzantısı `.xlx, .xlsx` ise `.read_excel()` metotu kullanılır. \n",
    "    - Dosyadaki stunlar sabit uzunlukta ise `.read_fwf()` metotu kullanılır. \n",
    "    - Dosya uzantısı `.json` ise `.read_json()` metotu kullanılır. \n",
    "    - Dosya `html tablosu` ise `.read_html()` metotu kullanılır. \n",
    "- ## veri setini okuturken kullanılacak opsiyonlar\n",
    "    \n",
    "    - `.txt` uzantılı dosyalarda verileri `tab` boşlukları ile ayrılmamış, `virgül(,)` kullanılmışssa `sep = \",\"` parametresi verilir.\n",
    "    - Veri setinde bir başlık bulunmuyor ise ilk satırı tablo başlığı olarak algılamaması için `header = None` parametresi verilir.\n",
    "    - Veri setinin başlıklarına isim vermek için `names = [<stun1_adi>, ..., <stunN_adi>]` parametresi verilir.\n",
    "    - Herhangi bir stunu index olarak kullanmak istersek `index_col = <stun_adi>` parametresi verilir.\n",
    "    - Açıklama satırlarını okutmamak için `skiprows = [<index1>, ...., <indexN>]` parametresi verilir.\n",
    "    - Belirli stunları okutmak için `usecols = [<stun1_index>, ..., <stunN_index>]` parametresi verilir.\n",
    "- ## eksik veri var olan veri setini okuma\n",
    "    - Okutulan veri setinde olan eksik verileri bulmak için `pd.isnull(<veri_yapısı>)` parametresi kullanılır.\n",
    "    - Okutulan veri setinde belirli değerler `NaN` olarak işlenmesi için `na_values = [<deger_1>, ..., <deger_N>]` parametresi verilir. Fakat bu parametrenin verilmesi durumunda girilen değerler tüm veri setinde aranıp bulunan her bir değer `NaN` olarak değiştirilecektir. Bunu önlemek için `Dictionary` yapısını kullanarak bu parametreyi besleyebiliriz. Örneğin;\n",
    "        ```\n",
    "            eksik_veriler = {\"puan\":[-5], \"cinsiyet\":[\"n.a\",\"Efe\"]}\n",
    "            vs = pd.read_table(\"DataSets/data5.txt\", sep=\",\", \n",
    "                  na_values=eksik_veriler)\n",
    "        ```\n",
    "    yapısı kullanılabilir.\n",
    "    \n",
    "- ## veri setini yazdırma\n",
    "    - `virgül(,)` ile ayrılmış `.csv` formatında veri seti yazdırmak için `.to_csv(<dosya_adi>)` metodu kullanılır.\n",
    "    - Veri setindeki verileri farklı bir sembol ile ayırmak isteniyorsa `sep = <sembol>` parametresi verilir.\n",
    "    - İndex stununu veya stun başlıklarını yazdırmak istenmiyorsa `index = False` veya `header = False` parametresi verilir.\n",
    "    - Belirli stunlar yazdırılmak isteniyorsa `columns = [<stun1_adi>, ..., <stunN_adi>]` parametresi veriliri.\n",
    "\n"
   ]
  },
  {
   "cell_type": "code",
   "execution_count": 76,
   "id": "7eb402d0",
   "metadata": {},
   "outputs": [],
   "source": [
    "eksik_veriler = {\"score\":[-5], \"sex\":[\"n.a\",\"Tom\"]}\n",
    "vs = pd.read_table(\"DataSets/data5.txt\", sep=\",\", \n",
    "            na_values=eksik_veriler)"
   ]
  },
  {
   "cell_type": "code",
   "execution_count": 77,
   "id": "b28ebf59",
   "metadata": {},
   "outputs": [
    {
     "data": {
      "text/html": [
       "<div>\n",
       "<style scoped>\n",
       "    .dataframe tbody tr th:only-of-type {\n",
       "        vertical-align: middle;\n",
       "    }\n",
       "\n",
       "    .dataframe tbody tr th {\n",
       "        vertical-align: top;\n",
       "    }\n",
       "\n",
       "    .dataframe thead th {\n",
       "        text-align: right;\n",
       "    }\n",
       "</style>\n",
       "<table border=\"1\" class=\"dataframe\">\n",
       "  <thead>\n",
       "    <tr style=\"text-align: right;\">\n",
       "      <th></th>\n",
       "      <th>name</th>\n",
       "      <th>score</th>\n",
       "      <th>sex</th>\n",
       "    </tr>\n",
       "  </thead>\n",
       "  <tbody>\n",
       "    <tr>\n",
       "      <th>0</th>\n",
       "      <td>Tim</td>\n",
       "      <td>80.0</td>\n",
       "      <td>NaN</td>\n",
       "    </tr>\n",
       "    <tr>\n",
       "      <th>1</th>\n",
       "      <td>Tom</td>\n",
       "      <td>NaN</td>\n",
       "      <td>NaN</td>\n",
       "    </tr>\n",
       "    <tr>\n",
       "      <th>2</th>\n",
       "      <td>Kate</td>\n",
       "      <td>70.0</td>\n",
       "      <td>NaN</td>\n",
       "    </tr>\n",
       "    <tr>\n",
       "      <th>3</th>\n",
       "      <td>NaN</td>\n",
       "      <td>90.0</td>\n",
       "      <td>K</td>\n",
       "    </tr>\n",
       "    <tr>\n",
       "      <th>4</th>\n",
       "      <td>Kim</td>\n",
       "      <td>NaN</td>\n",
       "      <td>K</td>\n",
       "    </tr>\n",
       "  </tbody>\n",
       "</table>\n",
       "</div>"
      ],
      "text/plain": [
       "   name  score  sex\n",
       "0   Tim   80.0  NaN\n",
       "1   Tom    NaN  NaN\n",
       "2  Kate   70.0  NaN\n",
       "3   NaN   90.0    K\n",
       "4   Kim    NaN    K"
      ]
     },
     "execution_count": 77,
     "metadata": {},
     "output_type": "execute_result"
    }
   ],
   "source": [
    "vs"
   ]
  },
  {
   "cell_type": "code",
   "execution_count": 78,
   "id": "943da7ea",
   "metadata": {},
   "outputs": [
    {
     "data": {
      "text/html": [
       "<div>\n",
       "<style scoped>\n",
       "    .dataframe tbody tr th:only-of-type {\n",
       "        vertical-align: middle;\n",
       "    }\n",
       "\n",
       "    .dataframe tbody tr th {\n",
       "        vertical-align: top;\n",
       "    }\n",
       "\n",
       "    .dataframe thead th {\n",
       "        text-align: right;\n",
       "    }\n",
       "</style>\n",
       "<table border=\"1\" class=\"dataframe\">\n",
       "  <thead>\n",
       "    <tr style=\"text-align: right;\">\n",
       "      <th></th>\n",
       "      <th>name</th>\n",
       "      <th>score</th>\n",
       "      <th>sex</th>\n",
       "    </tr>\n",
       "  </thead>\n",
       "  <tbody>\n",
       "    <tr>\n",
       "      <th>0</th>\n",
       "      <td>False</td>\n",
       "      <td>False</td>\n",
       "      <td>True</td>\n",
       "    </tr>\n",
       "    <tr>\n",
       "      <th>1</th>\n",
       "      <td>False</td>\n",
       "      <td>True</td>\n",
       "      <td>True</td>\n",
       "    </tr>\n",
       "    <tr>\n",
       "      <th>2</th>\n",
       "      <td>False</td>\n",
       "      <td>False</td>\n",
       "      <td>True</td>\n",
       "    </tr>\n",
       "    <tr>\n",
       "      <th>3</th>\n",
       "      <td>True</td>\n",
       "      <td>False</td>\n",
       "      <td>False</td>\n",
       "    </tr>\n",
       "    <tr>\n",
       "      <th>4</th>\n",
       "      <td>False</td>\n",
       "      <td>True</td>\n",
       "      <td>False</td>\n",
       "    </tr>\n",
       "  </tbody>\n",
       "</table>\n",
       "</div>"
      ],
      "text/plain": [
       "    name  score    sex\n",
       "0  False  False   True\n",
       "1  False   True   True\n",
       "2  False  False   True\n",
       "3   True  False  False\n",
       "4  False   True  False"
      ]
     },
     "execution_count": 78,
     "metadata": {},
     "output_type": "execute_result"
    }
   ],
   "source": [
    "pd.isnull(vs)"
   ]
  },
  {
   "cell_type": "code",
   "execution_count": 79,
   "id": "134d55f1",
   "metadata": {},
   "outputs": [],
   "source": [
    "vs.to_csv(\"DataSets/deneme.csv\", sep=\"+\", index= False, columns=[\"name\",\"score\"])"
   ]
  },
  {
   "cell_type": "code",
   "execution_count": 80,
   "id": "fa57eff2",
   "metadata": {},
   "outputs": [
    {
     "data": {
      "text/html": [
       "<div>\n",
       "<style scoped>\n",
       "    .dataframe tbody tr th:only-of-type {\n",
       "        vertical-align: middle;\n",
       "    }\n",
       "\n",
       "    .dataframe tbody tr th {\n",
       "        vertical-align: top;\n",
       "    }\n",
       "\n",
       "    .dataframe thead th {\n",
       "        text-align: right;\n",
       "    }\n",
       "</style>\n",
       "<table border=\"1\" class=\"dataframe\">\n",
       "  <thead>\n",
       "    <tr style=\"text-align: right;\">\n",
       "      <th></th>\n",
       "      <th>name+score</th>\n",
       "    </tr>\n",
       "  </thead>\n",
       "  <tbody>\n",
       "    <tr>\n",
       "      <th>0</th>\n",
       "      <td>Tim+80.0</td>\n",
       "    </tr>\n",
       "    <tr>\n",
       "      <th>1</th>\n",
       "      <td>Tom+</td>\n",
       "    </tr>\n",
       "    <tr>\n",
       "      <th>2</th>\n",
       "      <td>Kate+70.0</td>\n",
       "    </tr>\n",
       "    <tr>\n",
       "      <th>3</th>\n",
       "      <td>+90.0</td>\n",
       "    </tr>\n",
       "    <tr>\n",
       "      <th>4</th>\n",
       "      <td>Kim+</td>\n",
       "    </tr>\n",
       "  </tbody>\n",
       "</table>\n",
       "</div>"
      ],
      "text/plain": [
       "  name+score\n",
       "0   Tim+80.0\n",
       "1       Tom+\n",
       "2  Kate+70.0\n",
       "3      +90.0\n",
       "4       Kim+"
      ]
     },
     "execution_count": 80,
     "metadata": {},
     "output_type": "execute_result"
    }
   ],
   "source": [
    "deneme = pd.read_csv(\"DataSets/deneme.csv\")\n",
    "deneme"
   ]
  },
  {
   "cell_type": "code",
   "execution_count": null,
   "id": "4395fdbb",
   "metadata": {},
   "outputs": [],
   "source": []
  }
 ],
 "metadata": {
  "kernelspec": {
   "display_name": "Python 3 (ipykernel)",
   "language": "python",
   "name": "python3"
  },
  "language_info": {
   "codemirror_mode": {
    "name": "ipython",
    "version": 3
   },
   "file_extension": ".py",
   "mimetype": "text/x-python",
   "name": "python",
   "nbconvert_exporter": "python",
   "pygments_lexer": "ipython3",
   "version": "3.9.12"
  }
 },
 "nbformat": 4,
 "nbformat_minor": 5
}
